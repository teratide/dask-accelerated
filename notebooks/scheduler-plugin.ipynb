{
 "cells": [
  {
   "cell_type": "code",
   "execution_count": null,
   "metadata": {
    "pycharm": {
     "name": "#%%\n"
    }
   },
   "outputs": [],
   "source": [
    "import pickle\n",
    "from dask.distributed import Client, Scheduler, SchedulerPlugin"
   ]
  },
  {
   "cell_type": "code",
   "execution_count": null,
   "metadata": {
    "pycharm": {
     "name": "#%%\n"
    }
   },
   "outputs": [],
   "source": [
    "# Close the previous scheduler and all associated workers if present\n",
    "try:\n",
    "    client.shutdown()\n",
    "    client.close()\n",
    "except:\n",
    "    print('Could not shut down old client, was there any to begin with?')"
   ]
  },
  {
   "cell_type": "code",
   "execution_count": null,
   "metadata": {
    "pycharm": {
     "name": "#%%\n"
    }
   },
   "outputs": [],
   "source": [
    "# Start a client in local cluster mode\n",
    "client = Client()\n",
    "print('Dashboard available at', client.dashboard_link)"
   ]
  },
  {
   "cell_type": "code",
   "execution_count": null,
   "metadata": {
    "pycharm": {
     "name": "#%%\n"
    }
   },
   "outputs": [],
   "source": [
    "# Scheduler plugin that accelerates the\n",
    "# task graph using dask-accelerated\n",
    "class SchedulerOptimizer(SchedulerPlugin):\n",
    "\n",
    "    # Add the scheduler instance to the plugin as an attribute\n",
    "    # such that we can access the underlying task state\n",
    "    def __init__(self, scheduler):\n",
    "        self.scheduler = scheduler\n",
    "\n",
    "    def update_graph(self, scheduler, dsk=None, keys=None, restrictions=None, **kwargs):\n",
    "        for key in keys:\n",
    "            task_state = scheduler.tasks[key]\n",
    "            scheduler.logg(task_state)\n",
    "            rs_func = pickle.loads(task_state.run_spec['function'])\n",
    "            rs_arg = pickle.loads(task_state.run_spec['args'])\n",
    "            scheduler.logg(rs_func, rs_arg)"
   ]
  },
  {
   "cell_type": "code",
   "execution_count": null,
   "metadata": {
    "pycharm": {
     "name": "#%%\n"
    }
   },
   "outputs": [],
   "source": [
    "scheduler = client.cluster.scheduler"
   ]
  },
  {
   "cell_type": "code",
   "execution_count": null,
   "metadata": {
    "pycharm": {
     "name": "#%%\n"
    }
   },
   "outputs": [],
   "source": [
    "# The client dashboard is able to display the info logs\n",
    "# from the scheduler. Unfortunately, the scheduler does not\n",
    "# have a method to log data, so we monkey patch the scheduler class\n",
    "import logging\n",
    "logger = logging.getLogger(\"distributed.scheduler\")\n",
    "\n",
    "# The dashboard only exposes info logs, so\n",
    "# logger.info is used instead of logger.debug\n",
    "def log_method(self, *msgs):\n",
    "    logstring = ''\n",
    "    for msg in msgs:\n",
    "        logstring += str(msg) + '\\t'\n",
    "\n",
    "    logger.info(logstring)\n",
    "\n",
    "# The monkey patched method\n",
    "Scheduler.logg = log_method\n",
    "\n",
    "# TODO: remove\n",
    "scheduler.logg('logger test')\n",
    "scheduler.logg('logger test', 'multiple inputs')"
   ]
  },
  {
   "cell_type": "code",
   "execution_count": null,
   "metadata": {
    "pycharm": {
     "name": "#%%\n"
    }
   },
   "outputs": [],
   "source": [
    "# Register the plugin with the scheduler\n",
    "plugin = SchedulerOptimizer(scheduler)\n",
    "scheduler.add_plugin(plugin)"
   ]
  },
  {
   "cell_type": "code",
   "execution_count": null,
   "metadata": {
    "pycharm": {
     "name": "#%%\n"
    }
   },
   "outputs": [],
   "source": [
    "# Define a simple function and\n",
    "# submit a future on the client\n",
    "\n",
    "# Increment integer values by 1\n",
    "def inc(x):\n",
    "    return x + 1\n",
    "\n",
    "# Y holds the future to the result\n",
    "y = client.submit(inc, 10)"
   ]
  },
  {
   "cell_type": "code",
   "execution_count": null,
   "metadata": {
    "pycharm": {
     "name": "#%%\n"
    }
   },
   "outputs": [],
   "source": [
    "# Print the result of the future when it is ready\n",
    "y.result()"
   ]
  },
  {
   "cell_type": "code",
   "execution_count": null,
   "metadata": {
    "pycharm": {
     "name": "#%%\n"
    }
   },
   "outputs": [],
   "source": [
    "# Restart the client in case something went wrong\n",
    "# By default this doesnt run so the entire notebook\n",
    "# can be executed without restarting the client\n",
    "if False:\n",
    "    client.restart()"
   ]
  }
 ],
 "metadata": {
  "kernelspec": {
   "display_name": "Python 3",
   "language": "python",
   "name": "python3"
  },
  "language_info": {
   "codemirror_mode": {
    "name": "ipython",
    "version": 2
   },
   "file_extension": ".py",
   "mimetype": "text/x-python",
   "name": "python",
   "nbconvert_exporter": "python",
   "pygments_lexer": "ipython2",
   "version": "2.7.6"
  }
 },
 "nbformat": 4,
 "nbformat_minor": 0
}
