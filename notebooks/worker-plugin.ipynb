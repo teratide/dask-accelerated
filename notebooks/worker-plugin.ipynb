{
 "cells": [
  {
   "cell_type": "code",
   "execution_count": null,
   "metadata": {},
   "outputs": [],
   "source": [
    "from dask.distributed import Client, WorkerPlugin"
   ]
  },
  {
   "cell_type": "code",
   "execution_count": null,
   "metadata": {
    "pycharm": {
     "name": "#%%\n"
    }
   },
   "outputs": [],
   "source": [
    "# Close the previous scheduler and all associated workers if present\n",
    "try:\n",
    "    client.shutdown()\n",
    "    client.close()\n",
    "except:\n",
    "    print('Could not shut down old client, was there any to begin with?')"
   ]
  },
  {
   "cell_type": "code",
   "execution_count": null,
   "metadata": {
    "pycharm": {
     "name": "#%%\n"
    }
   },
   "outputs": [],
   "source": [
    "# First start a scheduler and worker from cli:\n",
    "# $ dask-scheduler\n",
    "# $ dask-worker tcp://xxx.xx.xxx.xxx:pppp --nthreads 1 --memory-limit 0 --no-nanny\n",
    "\n",
    "# Start a client and connect it to the existing scheduler\n",
    "client = Client('tcp://145.94.225.114:8786')\n",
    "print('Dashboard available at', client.dashboard_link)"
   ]
  },
  {
   "cell_type": "code",
   "execution_count": null,
   "metadata": {
    "pycharm": {
     "name": "#%%\n"
    }
   },
   "outputs": [],
   "source": [
    "# Worker plugin that accelerates the incoming part of the\n",
    "# task graph using dask-accelerated\n",
    "class WorkerOptimizer(WorkerPlugin):\n",
    "\n",
    "    def setup(self, worker):\n",
    "        print('WorkerOptimizer plugin registered')\n",
    "\n",
    "    def transition(self, key, start, finish, **kwargs):\n",
    "        print(key, '\\t', start, '\\t', finish)\n",
    "        print(kwargs, '\\n')\n",
    "\n",
    "    def release_key(self, key, state, cause, reason, report):\n",
    "        print(key, '\\t', state, '\\t', cause, '\\t', reason, '\\t', report)\n",
    "\n",
    "    def release_dep(self, dep, state, report):\n",
    "        print(dep, '\\t', state, '\\t', report)"
   ]
  },
  {
   "cell_type": "code",
   "execution_count": null,
   "metadata": {
    "pycharm": {
     "name": "#%%\n"
    }
   },
   "outputs": [],
   "source": [
    "# Register the plugin with all current and future workers\n",
    "client.register_worker_plugin(WorkerOptimizer)"
   ]
  },
  {
   "cell_type": "code",
   "execution_count": null,
   "metadata": {
    "pycharm": {
     "name": "#%%\n"
    }
   },
   "outputs": [],
   "source": [
    "# Define a simple function and\n",
    "# submit a future on the client\n",
    "\n",
    "# Increment integer values by 1\n",
    "def inc(x):\n",
    "    return x + 1\n",
    "\n",
    "# Y holds the future to the result\n",
    "y = client.submit(inc, 10)"
   ]
  },
  {
   "cell_type": "code",
   "execution_count": null,
   "metadata": {
    "pycharm": {
     "name": "#%%\n"
    }
   },
   "outputs": [],
   "source": [
    "# Print the result of the future when it is ready\n",
    "y.result()"
   ]
  },
  {
   "cell_type": "code",
   "execution_count": null,
   "metadata": {
    "pycharm": {
     "name": "#%%\n"
    }
   },
   "outputs": [],
   "source": [
    "# Restart the client in case something went wrong\n",
    "# By default this doesnt run so the entire notebook\n",
    "# can be executed without restarting the client\n",
    "if False:\n",
    "    client.restart()"
   ]
  }
 ],
 "metadata": {
  "kernelspec": {
   "display_name": "Python 3",
   "language": "python",
   "name": "python3"
  },
  "language_info": {
   "codemirror_mode": {
    "name": "ipython",
    "version": 2
   },
   "file_extension": ".py",
   "mimetype": "text/x-python",
   "name": "python",
   "nbconvert_exporter": "python",
   "pygments_lexer": "ipython2",
   "version": "2.7.6"
  }
 },
 "nbformat": 4,
 "nbformat_minor": 0
}
