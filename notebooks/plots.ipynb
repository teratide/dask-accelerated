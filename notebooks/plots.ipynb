{
 "cells": [
  {
   "cell_type": "code",
   "execution_count": 13,
   "metadata": {
    "collapsed": true
   },
   "outputs": [],
   "source": [
    "import os\n",
    "import numpy as np\n",
    "import matplotlib.pyplot as plt\n",
    "from dask_accelerated import pickler"
   ]
  },
  {
   "cell_type": "code",
   "execution_count": 14,
   "outputs": [
    {
     "name": "stdout",
     "output_type": "stream",
     "text": [
      "{'vanilla_filter': {'1000': 0.0029466946919759116, '64000': 0.16373570760091147, '1M': 2.724014679590861, '2M': 5.4312474727630615}, 're2_filter': {'1000': 0.003965139389038086, '64000': 0.15973114967346191, '1M': 2.5163703759511313, '2M': 5.036031484603882}, 'tidre_filter': {'1000': 0.0003012816111246745, '64000': 0.0024251937866210938, '1M': 0.030345439910888672, '2M': 0.06070486704508463}, 'timestamp': '03-Apr-2021_10:29:50'}\n"
     ]
    }
   ],
   "source": [
    "data = pickler.load_from_notebooks()\n",
    "print(data)"
   ],
   "metadata": {
    "collapsed": false,
    "pycharm": {
     "name": "#%%\n"
    }
   }
  },
  {
   "cell_type": "code",
   "execution_count": 15,
   "outputs": [
    {
     "name": "stdout",
     "output_type": "stream",
     "text": [
      "Data generated on  03-Apr-2021_10:29:50\n"
     ]
    }
   ],
   "source": [
    "timestamp = data['timestamp']\n",
    "print(\"Data generated on \", timestamp)\n",
    "\n",
    "out_dir = './plots/' + timestamp\n",
    "if not os.path.exists(out_dir):\n",
    "    os.makedirs(out_dir)"
   ],
   "metadata": {
    "collapsed": false,
    "pycharm": {
     "name": "#%%\n"
    }
   }
  },
  {
   "cell_type": "code",
   "execution_count": 16,
   "outputs": [
    {
     "data": {
      "text/plain": "<Figure size 432x288 with 1 Axes>",
      "image/png": "[encoded data removed]"
     },
     "metadata": {},
     "output_type": "display_data"
    }
   ],
   "source": [
    "sizes = np.array(list(data['vanilla_filter'].keys()))\n",
    "vanilla = np.array(list(data['vanilla_filter'].values()))\n",
    "re2 = np.array(list(data['re2_filter'].values()))\n",
    "tidre = np.array(list(data['tidre_filter'].values()))\n",
    "\n",
    "# set width of bar\n",
    "barWidth = 0.25\n",
    "\n",
    "# set height of bar\n",
    "bars1 = vanilla\n",
    "bars2 = re2\n",
    "bars3 = tidre\n",
    "\n",
    "# Set position of bar on X axis\n",
    "r1 = np.arange(len(bars1))\n",
    "r2 = [x + barWidth for x in r1]\n",
    "r3 = [x + barWidth for x in r2]\n",
    "\n",
    "fig = plt.figure()\n",
    "fig.patch.set_facecolor('white')\n",
    "\n",
    "# Make the plot\n",
    "plt.bar(r1, bars1, color='b', width=barWidth, edgecolor='white', label='vanilla dask', zorder=3)\n",
    "plt.bar(r2, bars2, color='r', width=barWidth, edgecolor='white', label='dask + re2', zorder=3)\n",
    "plt.bar(r3, bars3, color='g', width=barWidth, edgecolor='white', label='dask + tidre', zorder=3)\n",
    "\n",
    "# Add xticks on the middle of the group bars\n",
    "plt.xlabel('Number of Records')\n",
    "plt.ylabel('Runtime (seconds)')\n",
    "plt.xticks([r + (barWidth) for r in range(len(bars1))], sizes)\n",
    "\n",
    "plt.title('Total filter operator runtime')\n",
    "\n",
    "axes = plt.gca()\n",
    "axes.grid(which='both', axis='y', linestyle='--')\n",
    "\n",
    "plt.yscale('log')\n",
    "\n",
    "# Create legend & Show graphic\n",
    "plt.legend()\n",
    "\n",
    "# Save fig as pdf\n",
    "plt.savefig(out_dir + '/total_filter_runtime.png')\n",
    "\n",
    "plt.show()\n",
    "\n"
   ],
   "metadata": {
    "collapsed": false,
    "pycharm": {
     "name": "#%%\n"
    }
   }
  }
 ],
 "metadata": {
  "kernelspec": {
   "name": "pycharm-e2d9a002",
   "language": "python",
   "display_name": "PyCharm (dask_accelerated)"
  },
  "language_info": {
   "codemirror_mode": {
    "name": "ipython",
    "version": 2
   },
   "file_extension": ".py",
   "mimetype": "text/x-python",
   "name": "python",
   "nbconvert_exporter": "python",
   "pygments_lexer": "ipython2",
   "version": "2.7.6"
  }
 },
 "nbformat": 4,
 "nbformat_minor": 0
}