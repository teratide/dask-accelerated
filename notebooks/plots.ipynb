{
 "cells": [
  {
   "cell_type": "code",
   "execution_count": null,
   "metadata": {},
   "outputs": [],
   "source": [
    "import os\n",
    "import numpy as np\n",
    "import matplotlib.pyplot as plt\n",
    "from shutil import copyfile\n",
    "from benchmark import pickler"
   ]
  },
  {
   "cell_type": "code",
   "execution_count": null,
   "metadata": {
    "pycharm": {
     "name": "#%%\n"
    }
   },
   "outputs": [],
   "source": [
    "data = pickler.load_from_notebooks()"
   ]
  },
  {
   "cell_type": "code",
   "execution_count": null,
   "metadata": {
    "pycharm": {
     "name": "#%%\n"
    }
   },
   "outputs": [],
   "source": [
    "tidre = data['tidre']\n",
    "timestamp = data['timestamp']\n",
    "\n",
    "print(\"Run using tidre: \", tidre)\n",
    "print(\"Data generated on\", timestamp)\n",
    "\n",
    "# Determing output path for generated plots\n",
    "out_dir = './plots/'\n",
    "if tidre:\n",
    "    out_dir += 'tidre/'\n",
    "else:\n",
    "    out_dir += 're2/'\n",
    "out_dir += timestamp\n",
    "\n",
    "# Create the directory if it does not yet exist\n",
    "if not os.path.exists(out_dir):\n",
    "    os.makedirs(out_dir)\n",
    "\n",
    "# Copy the data file to the out dir as a backup\n",
    "copyfile('./data.pickle', out_dir + '/data.pickle')"
   ]
  },
  {
   "cell_type": "code",
   "execution_count": null,
   "metadata": {
    "pycharm": {
     "name": "#%%\n"
    }
   },
   "outputs": [],
   "source": [
    "# Helper function to make all plots in the notebook\n",
    "def make_bar_plot(data, benchmark_name, contains_tidre, plot_title, axes_titles, log_scale, rotate_x_labels, plot_name):\n",
    "\n",
    "    # Assumption that in_sizes benchmark is always run\n",
    "    sizes = np.array(list(data[benchmark_name]['vanilla_filter'].keys()))\n",
    "\n",
    "    vanilla = np.array(list(data[benchmark_name]['vanilla_filter'].values()))\n",
    "    re2 = np.array(list(data[benchmark_name]['re2_filter'].values()))\n",
    "    if contains_tidre:\n",
    "        tidre = np.array(list(data[benchmark_name]['tidre_filter'].values()))\n",
    "\n",
    "    # set width of bar\n",
    "    barWidth = 0.25\n",
    "\n",
    "    # set height of bar\n",
    "    bars1 = vanilla\n",
    "    bars2 = re2\n",
    "    if contains_tidre:\n",
    "        bars3 = tidre\n",
    "\n",
    "    # Set position of bar on X axis\n",
    "    r1 = np.arange(len(bars1))\n",
    "    r2 = [x + barWidth for x in r1]\n",
    "    if contains_tidre:\n",
    "        r3 = [x + barWidth for x in r2]\n",
    "\n",
    "    fig = plt.figure(figsize=(9,5.5))\n",
    "    fig.patch.set_facecolor('white')\n",
    "\n",
    "    # Make the plot\n",
    "    plt.bar(r1, bars1, color='b', width=barWidth, edgecolor='white', label='vanilla dask', zorder=3)\n",
    "    plt.bar(r2, bars2, color='r', width=barWidth, edgecolor='white', label='dask + re2', zorder=3)\n",
    "    if contains_tidre:\n",
    "        plt.bar(r3, bars3, color='g', width=barWidth, edgecolor='white', label='dask + tidre', zorder=3)\n",
    "\n",
    "    # Add xticks on the middle of the group bars\n",
    "    plt.xlabel(axes_titles['x'])\n",
    "    plt.ylabel(axes_titles['y'])\n",
    "\n",
    "    if contains_tidre:\n",
    "        x_offset = barWidth\n",
    "    else:\n",
    "        x_offset = barWidth / 2\n",
    "    plt.xticks([r + (x_offset) for r in range(len(bars1))], sizes)\n",
    "\n",
    "    if rotate_x_labels:\n",
    "        plt.xticks(rotation=-90)\n",
    "\n",
    "    plt.title(plot_title)\n",
    "\n",
    "    axes = plt.gca()\n",
    "    axes.grid(which='both', axis='y', linestyle='--')\n",
    "\n",
    "    if log_scale:\n",
    "        plt.yscale('log')\n",
    "\n",
    "    # Create legend & Show graphic\n",
    "    plt.legend()\n",
    "\n",
    "    # Save fig as pdf\n",
    "    plt.savefig(out_dir + '/' + plot_name + '.png')\n",
    "\n",
    "    plt.show()"
   ]
  },
  {
   "cell_type": "code",
   "execution_count": null,
   "metadata": {
    "pycharm": {
     "name": "#%%\n"
    }
   },
   "outputs": [],
   "source": [
    "def make_line_plot(data, benchmark_name, contains_tidre, plot_title, axes_titles, log_scale, rotate_x_labels, plot_name, include_vanilla_re2=True):\n",
    "\n",
    "    # Assumption that in_sizes benchmark is always run\n",
    "    sizes = np.array(list(data[benchmark_name]['vanilla_filter'].keys()))\n",
    "\n",
    "    if include_vanilla_re2:\n",
    "        vanilla = np.array(list(data[benchmark_name]['vanilla_filter'].values()))\n",
    "        re2 = np.array(list(data[benchmark_name]['re2_filter'].values()))\n",
    "    if contains_tidre:\n",
    "        tidre = np.array(list(data[benchmark_name]['tidre_filter'].values()))\n",
    "\n",
    "    fig = plt.figure(figsize=(9,5.5))\n",
    "    fig.patch.set_facecolor('white')\n",
    "\n",
    "    # Make the plot\n",
    "    if include_vanilla_re2:\n",
    "        plt.plot(sizes, vanilla, color='b', marker='o', label='vanilla dask', zorder=3)\n",
    "        plt.plot(sizes, re2, color='r', marker='+', label='dask + re2', zorder=3)\n",
    "    if contains_tidre:\n",
    "        plt.plot(sizes, tidre, color='g', marker='x', label='dask + tidre', zorder=3)\n",
    "\n",
    "    # Add xticks on the middle of the group bars\n",
    "    plt.xlabel(axes_titles['x'])\n",
    "    plt.ylabel(axes_titles['y'])\n",
    "\n",
    "    plt.xticks(sizes)\n",
    "    if rotate_x_labels:\n",
    "        plt.xticks(rotation=-90)\n",
    "\n",
    "    plt.title(plot_title)\n",
    "\n",
    "    axes = plt.gca()\n",
    "    axes.grid(which='both', axis='y', linestyle='--')\n",
    "\n",
    "    if log_scale:\n",
    "        plt.yscale('log')\n",
    "\n",
    "    # Create legend & Show graphic\n",
    "    plt.legend()\n",
    "\n",
    "    # Save fig as pdf\n",
    "    plt.savefig(out_dir + '/' + plot_name + '.png')\n",
    "\n",
    "    plt.show()"
   ]
  },
  {
   "cell_type": "code",
   "execution_count": null,
   "metadata": {
    "pycharm": {
     "name": "#%%\n"
    }
   },
   "outputs": [],
   "source": [
    "make_bar_plot(\n",
    "    data,\n",
    "    'in_size',                          # Name of the benchmark to plot\n",
    "    tidre,                              # Whether or not tidre is benchmarked\n",
    "    'Total filter operator runtime',    # Plot title\n",
    "    {                                   # Axes titles\n",
    "        'x': 'Number of records',\n",
    "        'y': 'Runtime(seconds)'\n",
    "    },\n",
    "    False,                              # Plot y axis in log scale\n",
    "    True,                               # Rotate x labels\n",
    "    'bar_in_sizes'                      # Plot name\n",
    ")\n",
    "\n",
    "make_line_plot(\n",
    "    data,\n",
    "    'in_size',                          # Name of the benchmark to plot\n",
    "    tidre,                              # Whether or not tidre is benchmarked\n",
    "    'Total filter op runtime vs input sizes',    # Plot title\n",
    "    {                                   # Axes titles\n",
    "        'x': 'Number of records',\n",
    "        'y': 'Runtime(seconds)'\n",
    "    },\n",
    "    False,                              # Plot y axis in log scale\n",
    "    True,                               # Rotate x labels\n",
    "    'line_in_sizes'                     # Plot name\n",
    ")"
   ]
  },
  {
   "cell_type": "code",
   "execution_count": null,
   "metadata": {
    "pycharm": {
     "name": "#%%\n"
    }
   },
   "outputs": [],
   "source": [
    "make_bar_plot(\n",
    "    data,\n",
    "    'in_size',                          # Name of the benchmark to plot\n",
    "    tidre,                              # Whether or not tidre is benchmarked\n",
    "    'Total filter operator runtime',    # Plot title\n",
    "    {                                   # Axes titles\n",
    "        'x': 'Number of records',\n",
    "        'y': 'Runtime(seconds)'\n",
    "    },\n",
    "    True,                               # Plot y axis in log scale\n",
    "    True,                               # Rotate x labels\n",
    "    'bar_in_sizes_log'                  # Plot name\n",
    ")\n",
    "\n",
    "make_line_plot(\n",
    "    data,\n",
    "    'in_size',                          # Name of the benchmark to plot\n",
    "    tidre,                              # Whether or not tidre is benchmarked\n",
    "    'Total filter op runtime vs input sizes (log)',    # Plot title\n",
    "    {                                   # Axes titles\n",
    "        'x': 'Number of records',\n",
    "        'y': 'Runtime(seconds)'\n",
    "    },\n",
    "    True,                               # Plot y axis in log scale\n",
    "    True,                               # Rotate x labels\n",
    "    'line_in_sizes_log'                 # Plot name\n",
    ")"
   ]
  },
  {
   "cell_type": "code",
   "execution_count": null,
   "metadata": {
    "pycharm": {
     "name": "#%%\n"
    }
   },
   "outputs": [],
   "source": [
    "make_bar_plot(\n",
    "    data,\n",
    "    'batch_size',                       # Name of the benchmark to plot\n",
    "    tidre,                              # Whether or not tidre is benchmarked\n",
    "    'Total filter operator runtime',    # Plot title\n",
    "    {                                   # Axes titles\n",
    "        'x': 'Batch size',\n",
    "        'y': 'Runtime(seconds)'\n",
    "    },\n",
    "    False,                              # Plot y axis in log scale\n",
    "    True,                               # Rotate x labels\n",
    "    'bar_batch_sizes'                   # Plot name\n",
    ")\n",
    "\n",
    "make_line_plot(\n",
    "    data,\n",
    "    'batch_size',                       # Name of the benchmark to plot\n",
    "    tidre,                              # Whether or not tidre is benchmarked\n",
    "    'Total filter op runtime vs batch sizes',    # Plot title\n",
    "    {                                   # Axes titles\n",
    "        'x': 'Batch size',\n",
    "        'y': 'Runtime(seconds)'\n",
    "    },\n",
    "    False,                              # Plot y axis in log scale\n",
    "    True,                               # Rotate x labels\n",
    "    'line_batch_sizes'                  # Plot name\n",
    ")\n"
   ]
  },
  {
   "cell_type": "code",
   "execution_count": null,
   "metadata": {
    "pycharm": {
     "name": "#%%\n"
    }
   },
   "outputs": [],
   "source": [
    "if tidre:\n",
    "    make_line_plot(\n",
    "        data,\n",
    "        'batch_size',                       # Name of the benchmark to plot\n",
    "        tidre,                              # Whether or not tidre is benchmarked\n",
    "        'Total Tidre filter op runtime vs batch sizes',    # Plot title\n",
    "        {                                   # Axes titles\n",
    "            'x': 'Batch size',\n",
    "            'y': 'Runtime(seconds)'\n",
    "        },\n",
    "        False,                              # Plot y axis in log scale\n",
    "        True,                               # Rotate x labels\n",
    "        'line_batch_sizes_tidre_only',      # Plot name\n",
    "        False                               # Don't include vanilla and re2\n",
    "    )"
   ]
  },
  {
   "cell_type": "code",
   "execution_count": null,
   "metadata": {
    "pycharm": {
     "name": "#%%\n"
    }
   },
   "outputs": [],
   "source": []
  }
 ],
 "metadata": {
  "kernelspec": {
   "display_name": "Python 3",
   "language": "python",
   "name": "python3"
  },
  "language_info": {
   "codemirror_mode": {
    "name": "ipython",
    "version": 2
   },
   "file_extension": ".py",
   "mimetype": "text/x-python",
   "name": "python",
   "nbconvert_exporter": "python",
   "pygments_lexer": "ipython2",
   "version": "2.7.6"
  }
 },
 "nbformat": 4,
 "nbformat_minor": 0
}
