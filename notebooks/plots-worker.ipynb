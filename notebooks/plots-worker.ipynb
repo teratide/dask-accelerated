{
 "cells": [
  {
   "cell_type": "code",
   "execution_count": null,
   "metadata": {},
   "outputs": [],
   "source": [
    "import os\n",
    "import numpy as np\n",
    "import matplotlib.pyplot as plt\n",
    "from shutil import copyfile\n",
    "import pickle"
   ]
  },
  {
   "cell_type": "code",
   "execution_count": null,
   "metadata": {
    "pycharm": {
     "name": "#%%\n"
    }
   },
   "outputs": [],
   "source": [
    "with open('./data-workers.pickle', 'rb') as f:\n",
    "    data = pickle.load(f)\n",
    "\n",
    "with open('./data-workers-0.pickle', 'rb') as f:\n",
    "    data['0'] = pickle.load(f)['0']\n",
    "\n",
    "print(data['timestamp'])\n",
    "out_dir = './plots/workers/' + data['timestamp']\n",
    "\n",
    "# Create the directory if it does not yet exist\n",
    "if not os.path.exists(out_dir):\n",
    "    os.makedirs(out_dir)\n",
    "\n",
    "copyfile('./data-workers-0.pickle', out_dir + '/data-workers-0.pickle')\n",
    "copyfile('./data-workers.pickle', out_dir + '/data-workers.pickle')"
   ]
  },
  {
   "cell_type": "code",
   "execution_count": null,
   "metadata": {
    "pycharm": {
     "name": "#%%\n"
    }
   },
   "outputs": [],
   "source": [
    "print(data)\n",
    "\n",
    "x_vals_in = ['256k', '512k', '1024k', '2048k', '4096k']\n",
    "x_vals_batch = ['64k', '128k', '256k', '512k', '1024k', '2048k', '4096k', '8192k']"
   ]
  },
  {
   "cell_type": "code",
   "execution_count": null,
   "metadata": {
    "pycharm": {
     "name": "#%%\n"
    }
   },
   "outputs": [],
   "source": [
    "fig = plt.figure(figsize=(9,7))\n",
    "fig.patch.set_facecolor('white')\n",
    "\n",
    "plt.plot(x_vals_in, list(data['0']['in_size'].values()), color='r', marker='x', label='0 accelerated workers', zorder=3)\n",
    "plt.plot(x_vals_in, list(data['1']['in_size'].values()), color='g', marker='o', label='1 accelerated worker', zorder=3)\n",
    "plt.plot(x_vals_in, list(data['2']['in_size'].values()), color='b', marker='>', label='2 accelerated workers', zorder=3)\n",
    "plt.plot(x_vals_in, list(data['3']['in_size'].values()), color='orange', marker='^', label='3 accelerated workers', zorder=3)\n",
    "\n",
    "# Add xticks on the middle of the group bars\n",
    "plt.xlabel('Number of records')\n",
    "plt.ylabel('Total query runtime (seconds)')\n",
    "\n",
    "plt.xticks(x_vals_in)\n",
    "plt.xticks(rotation=-90)\n",
    "\n",
    "plt.title('Runtime in sizes benchmark - batch 1M')\n",
    "\n",
    "axes = plt.gca()\n",
    "axes.grid(which='both', axis='y', linestyle='--')\n",
    "\n",
    "# plt.yscale('log')\n",
    "\n",
    "# Create legend & Show graphic\n",
    "plt.legend()\n",
    "\n",
    "# Save fig as pdf\n",
    "plt.savefig(out_dir + '/cluster_in_sizes.png')\n",
    "\n",
    "plt.show()"
   ]
  },
  {
   "cell_type": "code",
   "execution_count": null,
   "metadata": {
    "pycharm": {
     "name": "#%%\n"
    }
   },
   "outputs": [],
   "source": [
    "fig = plt.figure(figsize=(9,7))\n",
    "fig.patch.set_facecolor('white')\n",
    "\n",
    "plt.plot(x_vals_batch, list(data['0']['batch_size'].values()), color='r', marker='x', label='0 accelerated workers', zorder=3)\n",
    "plt.plot(x_vals_batch, list(data['1']['batch_size'].values()), color='g', marker='o', label='1 accelerated worker', zorder=3)\n",
    "plt.plot(x_vals_batch, list(data['2']['batch_size'].values()), color='b', marker='>', label='2 accelerated workers', zorder=3)\n",
    "plt.plot(x_vals_batch, list(data['3']['batch_size'].values()), color='orange', marker='^', label='3 accelerated workers', zorder=3)\n",
    "\n",
    "# Add xticks on the middle of the group bars\n",
    "plt.xlabel('Batch size')\n",
    "plt.ylabel('Total query runtime (seconds)')\n",
    "\n",
    "plt.xticks(x_vals_batch)\n",
    "plt.xticks(rotation=-90)\n",
    "\n",
    "plt.title('Runtime batch sizes benchmark - in 4M')\n",
    "\n",
    "axes = plt.gca()\n",
    "axes.grid(which='both', axis='y', linestyle='--')\n",
    "\n",
    "# plt.yscale('log')\n",
    "\n",
    "# Create legend & Show graphic\n",
    "plt.legend()\n",
    "\n",
    "# Save fig as pdf\n",
    "plt.savefig(out_dir + '/cluster_batch_sizes.png')\n",
    "\n",
    "plt.show()"
   ]
  }
 ],
 "metadata": {
  "kernelspec": {
   "display_name": "Python 3",
   "language": "python",
   "name": "python3"
  },
  "language_info": {
   "codemirror_mode": {
    "name": "ipython",
    "version": 2
   },
   "file_extension": ".py",
   "mimetype": "text/x-python",
   "name": "python",
   "nbconvert_exporter": "python",
   "pygments_lexer": "ipython2",
   "version": "2.7.6"
  }
 },
 "nbformat": 4,
 "nbformat_minor": 0
}
