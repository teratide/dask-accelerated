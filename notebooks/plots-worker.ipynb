{
 "cells": [
  {
   "cell_type": "code",
   "execution_count": null,
   "metadata": {},
   "outputs": [],
   "source": [
    "import os\n",
    "import numpy as np\n",
    "import matplotlib.pyplot as plt\n",
    "from shutil import copyfile\n",
    "import pickle"
   ]
  },
  {
   "cell_type": "code",
   "execution_count": null,
   "metadata": {
    "pycharm": {
     "name": "#%%\n"
    }
   },
   "outputs": [],
   "source": [
    "data = {}\n",
    "\n",
    "for i in range(1, 2):\n",
    "    with open('./data-' + str(i) + '.pickle', 'rb') as f:\n",
    "        data[i] = pickle.load(f)\n",
    "\n",
    "with open('./data-1-vanilla.pickle', 'rb') as f:\n",
    "    data_vanilla = pickle.load(f)\n",
    "data_vanilla.pop('timestamp', None)\n",
    "\n",
    "print(data[1]['timestamp'])\n",
    "out_dir = './plots/workers/' + data[1]['timestamp']\n",
    "\n",
    "# Create the directory if it does not yet exist\n",
    "if not os.path.exists(out_dir):\n",
    "    os.makedirs(out_dir)\n",
    "# Copy the data file to the out dir as a backup\n",
    "for i in range(1, 2):\n",
    "    data[i].pop('timestamp', None)\n",
    "    copyfile('./data-' + str(i) + '.pickle', out_dir + '/data-' + str(i) + '.pickle')\n",
    "\n",
    "copyfile('./data-1-vanilla.pickle', out_dir + '/data-1-vanilla.pickle')"
   ]
  },
  {
   "cell_type": "code",
   "execution_count": null,
   "metadata": {
    "pycharm": {
     "name": "#%%\n"
    }
   },
   "outputs": [],
   "source": [
    "x_values = ['1K', '2K', '4K', '8K', '16K', '32K', '64K', '128K', '256K', '512K', '1M', '2M', '4M']\n",
    "\n",
    "fig = plt.figure(figsize=(9,7))\n",
    "fig.patch.set_facecolor('white')\n",
    "\n",
    "plt.plot(x_values, list(data_vanilla.values()), color='r', marker='x', label='vanilla worker', zorder=3)\n",
    "plt.plot(x_values, list(data[1].values()), color='b', marker='o', label='accelerated worker', zorder=3)\n",
    "# plt.plot(x_values, list(data[2].values()), color='r', marker='^', label='2 accelerated workers', zorder=3)\n",
    "# plt.plot(x_values, list(data[3].values()), color='y', marker='>', label='3 accelerated workers', zorder=3)\n",
    "# plt.plot(x_values, list(data[4].values()), color='g', marker='x', label='4 accelerated workers', zorder=3)\n",
    "\n",
    "# Add xticks on the middle of the group bars\n",
    "plt.xlabel('Number of records')\n",
    "plt.ylabel('Total query runtime (seconds)')\n",
    "\n",
    "plt.xticks(x_values)\n",
    "plt.xticks(rotation=-90)\n",
    "\n",
    "plt.title('Runtime accelerated worker')\n",
    "\n",
    "axes = plt.gca()\n",
    "axes.grid(which='both', axis='y', linestyle='--')\n",
    "\n",
    "# plt.yscale('log')\n",
    "\n",
    "# Create legend & Show graphic\n",
    "plt.legend()\n",
    "\n",
    "# Save fig as pdf\n",
    "plt.savefig(out_dir + '/tidre_workers_in_sizes.png')\n",
    "\n",
    "plt.show()"
   ]
  },
  {
   "cell_type": "code",
   "execution_count": null,
   "metadata": {
    "pycharm": {
     "name": "#%%\n"
    }
   },
   "outputs": [],
   "source": [
    "x_values = ['1K', '2K', '4K', '8K', '16K', '32K', '64K', '128K', '256K', '512K', '1M', '2M', '4M']\n",
    "\n",
    "fig = plt.figure(figsize=(9,7))\n",
    "fig.patch.set_facecolor('white')\n",
    "\n",
    "speedup = np.divide(list(data_vanilla.values()), list(data[1].values()))\n",
    "\n",
    "plt.plot(x_values, speedup, color='b', marker='o', label='accelerated worker', zorder=3)\n",
    "# plt.plot(x_values, list(data[2].values()), color='r', marker='^', label='2 accelerated workers', zorder=3)\n",
    "# plt.plot(x_values, list(data[3].values()), color='y', marker='>', label='3 accelerated workers', zorder=3)\n",
    "# plt.plot(x_values, list(data[4].values()), color='g', marker='x', label='4 accelerated workers', zorder=3)\n",
    "\n",
    "# Add xticks on the middle of the group bars\n",
    "plt.xlabel('Number of records')\n",
    "plt.ylabel('Total query runtime (seconds)')\n",
    "\n",
    "plt.xticks(x_values)\n",
    "plt.xticks(rotation=-90)\n",
    "\n",
    "plt.title('Speedup accelerated worker')\n",
    "\n",
    "axes = plt.gca()\n",
    "axes.grid(which='both', axis='y', linestyle='--')\n",
    "\n",
    "# plt.yscale('log')\n",
    "\n",
    "# Create legend & Show graphic\n",
    "plt.legend()\n",
    "\n",
    "# Save fig as pdf\n",
    "plt.savefig(out_dir + '/speedup_tidre_workers_in_sizes.png')\n",
    "\n",
    "plt.show()"
   ]
  }
 ],
 "metadata": {
  "kernelspec": {
   "display_name": "Python 3",
   "language": "python",
   "name": "python3"
  },
  "language_info": {
   "codemirror_mode": {
    "name": "ipython",
    "version": 2
   },
   "file_extension": ".py",
   "mimetype": "text/x-python",
   "name": "python",
   "nbconvert_exporter": "python",
   "pygments_lexer": "ipython2",
   "version": "2.7.6"
  }
 },
 "nbformat": 4,
 "nbformat_minor": 0
}
