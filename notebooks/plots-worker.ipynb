{
 "cells": [
  {
   "cell_type": "code",
   "execution_count": null,
   "metadata": {},
   "outputs": [],
   "source": [
    "import os\n",
    "import numpy as np\n",
    "import matplotlib.pyplot as plt\n",
    "from shutil import copyfile\n",
    "import pickle"
   ]
  },
  {
   "cell_type": "code",
   "execution_count": null,
   "metadata": {
    "pycharm": {
     "name": "#%%\n"
    }
   },
   "outputs": [],
   "source": [
    "with open('./data-workers.pickle', 'rb') as f:\n",
    "    data = pickle.load(f)\n",
    "\n",
    "print(data['timestamp'])\n",
    "out_dir = './plots/workers/' + data['timestamp']\n",
    "\n",
    "# Create the directory if it does not yet exist\n",
    "if not os.path.exists(out_dir):\n",
    "    os.makedirs(out_dir)\n",
    "\n",
    "copyfile('./data-workers.pickle', out_dir + '/data-workers.pickle')"
   ]
  },
  {
   "cell_type": "code",
   "execution_count": null,
   "metadata": {
    "pycharm": {
     "name": "#%%\n"
    }
   },
   "outputs": [],
   "source": [
    "print(data)\n",
    "\n",
    "x_vals_in = ['256k', '512k', '1024k', '2048k', '4096k']\n",
    "x_vals_batch = ['64k', '128k', '256k', '512k', '1024k', '2048k', '4096k', '8192k']\n",
    "\n",
    "m_cost_per_second = 0.4 / 60 / 60\n",
    "f_cost_per_second = 1.65 / 60 / 60"
   ]
  },
  {
   "cell_type": "code",
   "execution_count": null,
   "metadata": {
    "pycharm": {
     "name": "#%%\n"
    }
   },
   "outputs": [],
   "source": [
    "# RUNTIME IN SIZE\n",
    "\n",
    "fig = plt.figure(figsize=(9,7))\n",
    "fig.patch.set_facecolor('white')\n",
    "\n",
    "plt.plot(x_vals_in, list(data['0']['in_size'].values()), color='r', marker='x', label='vanilla worker', zorder=3)\n",
    "plt.plot(x_vals_in, list(data['1']['in_size'].values()), color='g', marker='o', label='tidre worker', zorder=3)\n",
    "# plt.plot(x_vals_in, list(data['2']['in_size'].values()), color='b', marker='>', label='2 accelerated workers', zorder=3)\n",
    "# plt.plot(x_vals_in, list(data['3']['in_size'].values()), color='orange', marker='^', label='3 accelerated workers', zorder=3)\n",
    "\n",
    "# Add xticks on the middle of the group bars\n",
    "plt.xlabel('Number of records')\n",
    "plt.ylabel('Total query runtime (seconds)')\n",
    "\n",
    "plt.xticks(x_vals_in)\n",
    "plt.xticks(rotation=-90)\n",
    "\n",
    "plt.title('Runtime in sizes benchmark - batch size 1M')\n",
    "\n",
    "axes = plt.gca()\n",
    "axes.grid(which='both', axis='y', linestyle='--')\n",
    "\n",
    "# plt.yscale('log')\n",
    "\n",
    "# Create legend & Show graphic\n",
    "plt.legend()\n",
    "\n",
    "# Save fig as pdf\n",
    "plt.savefig(out_dir + '/cluster_in_sizes.png')\n",
    "\n",
    "plt.show()"
   ]
  },
  {
   "cell_type": "code",
   "execution_count": null,
   "metadata": {
    "pycharm": {
     "name": "#%%\n"
    }
   },
   "outputs": [],
   "source": [
    "# THROUGHPUT IN SIZE\n",
    "\n",
    "fig = plt.figure(figsize=(9,7))\n",
    "fig.patch.set_facecolor('white')\n",
    "\n",
    "in_sizes = [256e3, 512e3, 1024e3, 2048e3, 4096e3]\n",
    "in_bytes = np.array([x * 100 * 1 for x in in_sizes])\n",
    "\n",
    "throughput = {\n",
    "    '0': np.divide(in_bytes, list(data['0']['in_size'].values())),\n",
    "    '1': np.divide(in_bytes, list(data['1']['in_size'].values()))\n",
    "    # '2': np.divide(in_bytes, list(data['2']['in_size'].values())),\n",
    "    # '3': np.divide(in_bytes, list(data['3']['in_size'].values()))\n",
    "}\n",
    "\n",
    "plt.plot(x_vals_in, list(throughput['0']), color='r', marker='x', label='vanilla worker', zorder=3)\n",
    "plt.plot(x_vals_in, list(throughput['1']), color='g', marker='o', label='tidre worker', zorder=3)\n",
    "# plt.plot(x_vals_in, list(throughput['2']), color='b', marker='>', label='2 accelerated workers', zorder=3)\n",
    "# plt.plot(x_vals_in, list(throughput['3']), color='orange', marker='^', label='3 accelerated workers', zorder=3)\n",
    "\n",
    "# Add xticks on the middle of the group bars\n",
    "plt.xlabel('Number of records')\n",
    "plt.ylabel('Total query throughput (bytes/s)')\n",
    "\n",
    "plt.xticks(x_vals_in)\n",
    "plt.xticks(rotation=-90)\n",
    "\n",
    "plt.title('Throughput in sizes benchmark - batch size 1M')\n",
    "\n",
    "axes = plt.gca()\n",
    "axes.grid(which='both', axis='y', linestyle='--')\n",
    "\n",
    "# plt.yscale('log')\n",
    "\n",
    "# Create legend & Show graphic\n",
    "plt.legend()\n",
    "\n",
    "# Save fig as pdf\n",
    "plt.savefig(out_dir + '/cluster_in_sizes_throughput.png')\n",
    "\n",
    "plt.show()"
   ]
  },
  {
   "cell_type": "code",
   "execution_count": null,
   "metadata": {
    "pycharm": {
     "name": "#%%\n"
    }
   },
   "outputs": [],
   "source": [
    "# SPEEDUP IN SIZE\n",
    "\n",
    "fig = plt.figure(figsize=(9,7))\n",
    "fig.patch.set_facecolor('white')\n",
    "\n",
    "speedup = {\n",
    "    '0': np.divide(list(data['0']['in_size'].values()), list(data['0']['in_size'].values())),\n",
    "    '1': np.divide(list(data['0']['in_size'].values()), list(data['1']['in_size'].values()))\n",
    "    # '2': np.divide(list(data['0']['in_size'].values()), list(data['2']['in_size'].values())),\n",
    "    # '3': np.divide(list(data['0']['in_size'].values()), list(data['3']['in_size'].values()))\n",
    "}\n",
    "\n",
    "plt.plot(x_vals_in, list(speedup['0']), color='r', marker='x', label='vanilla worker', zorder=3)\n",
    "plt.plot(x_vals_in, list(speedup['1']), color='g', marker='o', label='tidre worker', zorder=3)\n",
    "# plt.plot(x_vals_in, list(speedup['2']), color='b', marker='>', label='2 accelerated workers', zorder=3)\n",
    "# plt.plot(x_vals_in, list(speedup['3']), color='orange', marker='^', label='3 accelerated workers', zorder=3)\n",
    "\n",
    "# Add xticks on the middle of the group bars\n",
    "plt.xlabel('Number of records')\n",
    "plt.ylabel('Speedup')\n",
    "\n",
    "plt.xticks(x_vals_in)\n",
    "plt.xticks(rotation=-90)\n",
    "\n",
    "plt.title('Speedup in sizes benchmark - batch size 1M')\n",
    "\n",
    "axes = plt.gca()\n",
    "axes.grid(which='both', axis='y', linestyle='--')\n",
    "\n",
    "# plt.yscale('log')\n",
    "\n",
    "# Create legend & Show graphic\n",
    "plt.legend()\n",
    "\n",
    "# Save fig as pdf\n",
    "plt.savefig(out_dir + '/cluster_in_sizes_speedup.png')\n",
    "\n",
    "plt.show()"
   ]
  },
  {
   "cell_type": "code",
   "execution_count": null,
   "metadata": {
    "pycharm": {
     "name": "#%%\n"
    }
   },
   "outputs": [],
   "source": [
    "# COST IN SIZE\n",
    "\n",
    "fig = plt.figure(figsize=(9,7))\n",
    "fig.patch.set_facecolor('white')\n",
    "\n",
    "cost = {\n",
    "    '0': np.multiply(list(data['0']['in_size'].values()), (m_cost_per_second)),\n",
    "    '1': np.multiply(list(data['1']['in_size'].values()), (f_cost_per_second)),\n",
    "    # '2': np.multiply(list(data['2']['in_size'].values()), (m_cost_per_second + 2*f_cost_per_second)),\n",
    "    # '3': np.multiply(list(data['3']['in_size'].values()), (3*f_cost_per_second))\n",
    "}\n",
    "\n",
    "plt.plot(x_vals_in, list(cost['0']), color='r', marker='x', label='vanilla worker', zorder=3)\n",
    "plt.plot(x_vals_in, list(cost['1']), color='g', marker='o', label='tidre worker', zorder=3)\n",
    "# plt.plot(x_vals_in, list(cost['2']), color='b', marker='>', label='2 accelerated workers', zorder=3)\n",
    "# plt.plot(x_vals_in, list(cost['3']), color='orange', marker='^', label='3 accelerated workers', zorder=3)\n",
    "\n",
    "# Add xticks on the middle of the group bars\n",
    "plt.xlabel('Number of records')\n",
    "plt.ylabel('Cost per query ($)')\n",
    "\n",
    "plt.xticks(x_vals_in)\n",
    "plt.xticks(rotation=-90)\n",
    "\n",
    "plt.title('Cost in sizes benchmark - batch size 1M')\n",
    "\n",
    "axes = plt.gca()\n",
    "axes.grid(which='both', axis='y', linestyle='--')\n",
    "\n",
    "# plt.yscale('log')\n",
    "\n",
    "# Create legend & Show graphic\n",
    "plt.legend()\n",
    "\n",
    "# Save fig as pdf\n",
    "plt.savefig(out_dir + '/cluster_in_sizes_cost.png')\n",
    "\n",
    "plt.show()"
   ]
  },
  {
   "cell_type": "code",
   "execution_count": null,
   "metadata": {
    "pycharm": {
     "name": "#%%\n"
    }
   },
   "outputs": [],
   "source": [
    "# RUNTIME BATCH SIZE\n",
    "\n",
    "fig = plt.figure(figsize=(9,7))\n",
    "fig.patch.set_facecolor('white')\n",
    "\n",
    "plt.plot(x_vals_batch, list(data['0']['batch_size'].values()), color='r', marker='x', label='vanilla worker', zorder=3)\n",
    "plt.plot(x_vals_batch, list(data['1']['batch_size'].values()), color='g', marker='o', label='tidre worker', zorder=3)\n",
    "# plt.plot(x_vals_batch, list(data['2']['batch_size'].values()), color='b', marker='>', label='2 accelerated workers', zorder=3)\n",
    "# plt.plot(x_vals_batch, list(data['3']['batch_size'].values()), color='orange', marker='^', label='3 accelerated workers', zorder=3)\n",
    "\n",
    "# Add xticks on the middle of the group bars\n",
    "plt.xlabel('Batch size')\n",
    "plt.ylabel('Total query runtime (seconds)')\n",
    "\n",
    "plt.xticks(x_vals_batch)\n",
    "plt.xticks(rotation=-90)\n",
    "\n",
    "plt.title('Runtime batch sizes benchmark - in size 4M')\n",
    "\n",
    "axes = plt.gca()\n",
    "axes.grid(which='both', axis='y', linestyle='--')\n",
    "\n",
    "# plt.yscale('log')\n",
    "\n",
    "# Create legend & Show graphic\n",
    "plt.legend()\n",
    "\n",
    "# Save fig as pdf\n",
    "plt.savefig(out_dir + '/cluster_batch_sizes.png')\n",
    "\n",
    "plt.show()"
   ]
  },
  {
   "cell_type": "code",
   "execution_count": null,
   "metadata": {
    "pycharm": {
     "name": "#%%\n"
    }
   },
   "outputs": [],
   "source": [
    "# THROUGHPUT BATCH SIZE\n",
    "\n",
    "fig = plt.figure(figsize=(9,7))\n",
    "fig.patch.set_facecolor('white')\n",
    "\n",
    "in_bytes = 100 * 1 * 4096e3\n",
    "\n",
    "throughput = {\n",
    "    '0': np.divide(in_bytes, list(data['0']['batch_size'].values())),\n",
    "    '1': np.divide(in_bytes, list(data['1']['batch_size'].values())),\n",
    "    # '2': np.divide(in_bytes, list(data['2']['batch_size'].values())),\n",
    "    # '3': np.divide(in_bytes, list(data['3']['batch_size'].values()))\n",
    "}\n",
    "\n",
    "plt.plot(x_vals_batch, list(throughput['0']), color='r', marker='x', label='vanilla worker', zorder=3)\n",
    "plt.plot(x_vals_batch, list(throughput['1']), color='g', marker='o', label='tidre worker', zorder=3)\n",
    "# plt.plot(x_vals_batch, list(throughput['2']), color='b', marker='>', label='2 accelerated workers', zorder=3)\n",
    "# plt.plot(x_vals_batch, list(throughput['3']), color='orange', marker='^', label='3 accelerated workers', zorder=3)\n",
    "\n",
    "# Add xticks on the middle of the group bars\n",
    "plt.xlabel('Batch size')\n",
    "plt.ylabel('Total query throughput (bytes/s)')\n",
    "\n",
    "plt.xticks(x_vals_batch)\n",
    "plt.xticks(rotation=-90)\n",
    "\n",
    "plt.title('Throughput batch sizes benchmark - in size 4M')\n",
    "\n",
    "axes = plt.gca()\n",
    "axes.grid(which='both', axis='y', linestyle='--')\n",
    "\n",
    "# plt.yscale('log')\n",
    "\n",
    "# Create legend & Show graphic\n",
    "plt.legend()\n",
    "\n",
    "# Save fig as pdf\n",
    "plt.savefig(out_dir + '/cluster_batch_sizes_throughput.png')\n",
    "\n",
    "plt.show()"
   ]
  },
  {
   "cell_type": "code",
   "execution_count": null,
   "metadata": {
    "pycharm": {
     "name": "#%%\n"
    }
   },
   "outputs": [],
   "source": [
    "# SPEEDUP BATCH SIZE\n",
    "\n",
    "fig = plt.figure(figsize=(9,7))\n",
    "fig.patch.set_facecolor('white')\n",
    "\n",
    "speedup = {\n",
    "    '0': np.divide(list(data['0']['batch_size'].values()), list(data['0']['batch_size'].values())),\n",
    "    '1': np.divide(list(data['0']['batch_size'].values()), list(data['1']['batch_size'].values())),\n",
    "    # '2': np.divide(list(data['0']['batch_size'].values()), list(data['2']['batch_size'].values())),\n",
    "    # '3': np.divide(list(data['0']['batch_size'].values()), list(data['3']['batch_size'].values()))\n",
    "}\n",
    "\n",
    "plt.plot(x_vals_batch, list(speedup['0']), color='r', marker='x', label='vanilla worker', zorder=3)\n",
    "plt.plot(x_vals_batch, list(speedup['1']), color='g', marker='o', label='tidre worker', zorder=3)\n",
    "# plt.plot(x_vals_batch, list(speedup['2']), color='b', marker='>', label='2 accelerated workers', zorder=3)\n",
    "# plt.plot(x_vals_batch, list(speedup['3']), color='orange', marker='^', label='3 accelerated workers', zorder=3)\n",
    "\n",
    "# Add xticks on the middle of the group bars\n",
    "plt.xlabel('Batch size')\n",
    "plt.ylabel('Speedup')\n",
    "\n",
    "plt.xticks(x_vals_batch)\n",
    "plt.xticks(rotation=-90)\n",
    "\n",
    "plt.title('Speedup batch sizes benchmark - in size 4M')\n",
    "\n",
    "axes = plt.gca()\n",
    "axes.grid(which='both', axis='y', linestyle='--')\n",
    "\n",
    "# plt.yscale('log')\n",
    "\n",
    "# Create legend & Show graphic\n",
    "plt.legend()\n",
    "\n",
    "# Save fig as pdf\n",
    "plt.savefig(out_dir + '/cluster_batch_sizes_speedup.png')\n",
    "\n",
    "plt.show()"
   ]
  },
  {
   "cell_type": "code",
   "execution_count": null,
   "metadata": {
    "pycharm": {
     "name": "#%%\n"
    }
   },
   "outputs": [],
   "source": [
    "# COST BATCH SIZE\n",
    "\n",
    "fig = plt.figure(figsize=(9,7))\n",
    "fig.patch.set_facecolor('white')\n",
    "\n",
    "cost = {\n",
    "    '0': np.multiply(list(data['0']['batch_size'].values()), (m_cost_per_second)),\n",
    "    '1': np.multiply(list(data['1']['batch_size'].values()), (f_cost_per_second)),\n",
    "    # '2': np.multiply(list(data['2']['batch_size'].values()), (m_cost_per_second + 2*f_cost_per_second)),\n",
    "    # '3': np.multiply(list(data['3']['batch_size'].values()), (3*f_cost_per_second))\n",
    "}\n",
    "\n",
    "plt.plot(x_vals_batch, list(cost['0']), color='r', marker='x', label='vanilla worker', zorder=3)\n",
    "plt.plot(x_vals_batch, list(cost['1']), color='g', marker='o', label='tidre worker', zorder=3)\n",
    "# plt.plot(x_vals_batch, list(cost['2']), color='b', marker='>', label='2 accelerated workers', zorder=3)\n",
    "# plt.plot(x_vals_batch, list(cost['3']), color='orange', marker='^', label='3 accelerated workers', zorder=3)\n",
    "\n",
    "# Add xticks on the middle of the group bars\n",
    "plt.xlabel('Batch size')\n",
    "plt.ylabel('Cost per query ($)')\n",
    "\n",
    "plt.xticks(x_vals_batch)\n",
    "plt.xticks(rotation=-90)\n",
    "\n",
    "plt.title('Cost batch sizes benchmark - in size 4M')\n",
    "\n",
    "axes = plt.gca()\n",
    "axes.grid(which='both', axis='y', linestyle='--')\n",
    "\n",
    "# plt.yscale('log')\n",
    "\n",
    "# Create legend & Show graphic\n",
    "plt.legend()\n",
    "\n",
    "# Save fig as pdf\n",
    "plt.savefig(out_dir + '/cluster_batch_sizes_cost.png')\n",
    "\n",
    "plt.show()"
   ]
  }
 ],
 "metadata": {
  "kernelspec": {
   "display_name": "Python 3",
   "language": "python",
   "name": "python3"
  },
  "language_info": {
   "codemirror_mode": {
    "name": "ipython",
    "version": 2
   },
   "file_extension": ".py",
   "mimetype": "text/x-python",
   "name": "python",
   "nbconvert_exporter": "python",
   "pygments_lexer": "ipython2",
   "version": "2.7.6"
  }
 },
 "nbformat": 4,
 "nbformat_minor": 0
}
