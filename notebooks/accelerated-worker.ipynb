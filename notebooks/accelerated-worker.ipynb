{
 "cells": [
  {
   "cell_type": "code",
   "execution_count": null,
   "metadata": {},
   "outputs": [],
   "source": [
    "from dask.distributed import Client, Scheduler, Worker"
   ]
  },
  {
   "cell_type": "code",
   "execution_count": null,
   "metadata": {
    "pycharm": {
     "name": "#%%\n"
    }
   },
   "outputs": [],
   "source": [
    "# Close the previous scheduler and all associated workers if present\n",
    "try:\n",
    "    client.shutdown()\n",
    "    client.close()\n",
    "except:\n",
    "    print('Could not shut down old client, was there any to begin with?')\n",
    "\n",
    "# Start a client in local cluster mode and expose the underlying scheduler\n",
    "client = Client()\n",
    "scheduler = client.cluster.scheduler\n",
    "print('Dashboard available at', client.dashboard_link)"
   ]
  },
  {
   "cell_type": "code",
   "execution_count": null,
   "metadata": {
    "pycharm": {
     "name": "#%%\n"
    }
   },
   "outputs": [],
   "source": [
    "import logging\n",
    "\n",
    "no_value = \"--no-value-sentinel--\"\n",
    "logger = logging.getLogger(__name__)\n",
    "\n",
    "# Create an accelerated worker class based on the original worker class\n",
    "class AcceleratedWorker(Worker):\n",
    "    pass\n",
    "    # def add_task(\n",
    "    #     self,\n",
    "    #     key,\n",
    "    #     function=None,\n",
    "    #     args=None,\n",
    "    #     kwargs=None,\n",
    "    #     task=no_value,\n",
    "    #     who_has=None,\n",
    "    #     nbytes=None,\n",
    "    #     priority=None,\n",
    "    #     duration=None,\n",
    "    #     resource_restrictions=None,\n",
    "    #     actor=False,\n",
    "    #     **kwargs2,\n",
    "    # ):\n",
    "    #     logger.info('TTTTESTSETSTESTSTETS')\n",
    "    #     super(AcceleratedWorker, self).add_task(\n",
    "    #         key,\n",
    "    #         function,\n",
    "    #         args,\n",
    "    #         kwargs,\n",
    "    #         task,\n",
    "    #         who_has,\n",
    "    #         nbytes,\n",
    "    #         priority,\n",
    "    #         duration,\n",
    "    #         resource_restrictions,\n",
    "    #         actor,\n",
    "    #         **kwargs2,\n",
    "    #     )\n"
   ]
  },
  {
   "cell_type": "code",
   "execution_count": null,
   "metadata": {
    "pycharm": {
     "name": "#%%\n"
    }
   },
   "outputs": [],
   "source": [
    "def install_signal_handlers(loop=None, cleanup=None):\n",
    "    \"\"\"\n",
    "    Install global signal handlers to halt the Tornado IOLoop in case of\n",
    "    a SIGINT or SIGTERM.  *cleanup* is an optional callback called,\n",
    "    before the loop stops, with a single signal number argument.\n",
    "    \"\"\"\n",
    "    import signal\n",
    "\n",
    "    loop = loop or IOLoop.current()\n",
    "\n",
    "    old_handlers = {}\n",
    "\n",
    "    def handle_signal(sig, frame):\n",
    "        async def cleanup_and_stop():\n",
    "            try:\n",
    "                if cleanup is not None:\n",
    "                    await cleanup(sig)\n",
    "            finally:\n",
    "                loop.stop()\n",
    "\n",
    "        loop.add_callback_from_signal(cleanup_and_stop)\n",
    "        # Restore old signal handler to allow for a quicker exit\n",
    "        # if the user sends the signal again.\n",
    "        signal.signal(sig, old_handlers[sig])\n",
    "\n",
    "    for sig in [signal.SIGINT, signal.SIGTERM]:\n",
    "        old_handlers[sig] = signal.signal(sig, handle_signal)"
   ]
  },
  {
   "cell_type": "code",
   "execution_count": null,
   "metadata": {
    "pycharm": {
     "name": "#%%\n"
    }
   },
   "outputs": [],
   "source": [
    "# Start a new worker based on the AcceleratedWorker class\n",
    "# This worker automatically connects to the scheduler and gets added to the worker pool\n",
    "# accelerated_worker = await Worker(\n",
    "#     scheduler.address,\n",
    "#     validate=True,\n",
    "#     nthreads=1,\n",
    "#     memory_limit=4e9,\n",
    "#     dashboard=True,\n",
    "#     name='accelerated'\n",
    "# )\n",
    "\n",
    "from tornado.ioloop import IOLoop\n",
    "import asyncio\n",
    "import sys\n",
    "import signal\n",
    "\n",
    "kwargs = {\n",
    "    'preload': (),\n",
    "    'memory_limit': '0',\n",
    "    'preload_argv': (),\n",
    "    'interface': None,\n",
    "    'protocol': None,\n",
    "    'reconnect': True,\n",
    "    'local_directory': None,\n",
    "    'death_timeout': None,\n",
    "    'lifetime': None,\n",
    "    'lifetime_stagger': '0 seconds',\n",
    "    'lifetime_restart': False\n",
    "}\n",
    "\n",
    "loop = IOLoop.current()\n",
    "\n",
    "accelerated_worker = await Worker(\n",
    "    scheduler.address,\n",
    "    scheduler_file=None,\n",
    "    nthreads=1,\n",
    "    loop=loop,\n",
    "    resources=None,\n",
    "    security={},\n",
    "    contact_address=None,\n",
    "    host=None,\n",
    "    port=None,\n",
    "    dashboard=True,\n",
    "    dashboard_address=':0',\n",
    "    name='accelerated',\n",
    "    **kwargs\n",
    ")\n",
    "\n",
    "nannies = [accelerated_worker]\n",
    "\n",
    "nanny = True\n",
    "\n",
    "async def close_all():\n",
    "    # Unregister all workers from scheduler\n",
    "    if nanny:\n",
    "        await asyncio.gather(*[n.close(timeout=2) for n in nannies])\n",
    "\n",
    "signal_fired = False\n",
    "\n",
    "def on_signal(signum):\n",
    "    nonlocal signal_fired\n",
    "    signal_fired = True\n",
    "    if signum != signal.SIGINT:\n",
    "        logger.info(\"Exiting on signal %d\", signum)\n",
    "    return asyncio.ensure_future(close_all())\n",
    "\n",
    "async def run():\n",
    "    await asyncio.gather(*nannies)\n",
    "    await asyncio.gather(*[n.finished() for n in nannies])\n",
    "\n",
    "install_signal_handlers(loop, cleanup=on_signal)\n",
    "\n",
    "try:\n",
    "    loop.run_sync(run)\n",
    "except TimeoutError:\n",
    "    # We already log the exception in nanny / worker. Don't do it again.\n",
    "    if not signal_fired:\n",
    "        logger.info(\"Timed out starting worker\")\n",
    "    sys.exit(1)\n",
    "except KeyboardInterrupt:\n",
    "    pass\n",
    "finally:\n",
    "    logger.info(\"End worker\")"
   ]
  },
  {
   "cell_type": "code",
   "execution_count": null,
   "metadata": {
    "pycharm": {
     "name": "#%%\n"
    }
   },
   "outputs": [],
   "source": [
    "workers = scheduler.workers\n",
    "for worker in workers:\n",
    "    print(workers[worker].nanny)"
   ]
  },
  {
   "cell_type": "code",
   "execution_count": null,
   "metadata": {
    "pycharm": {
     "name": "#%%\n"
    }
   },
   "outputs": [],
   "source": [
    "# Remove the non-accelerated workers\n",
    "workers = scheduler.workers\n",
    "for worker in workers:\n",
    "    if worker != accelerated_worker.address:\n",
    "        await scheduler.remove_worker(address=worker)"
   ]
  },
  {
   "cell_type": "code",
   "execution_count": null,
   "metadata": {
    "pycharm": {
     "name": "#%%\n"
    }
   },
   "outputs": [],
   "source": [
    "# Define a simple function and\n",
    "# submit a future on the client\n",
    "\n",
    "# Increment integer values by 1\n",
    "def inc(x):\n",
    "    return x + 1\n",
    "\n",
    "# Y holds the future to the result\n",
    "y = client.submit(inc, 1211)"
   ]
  },
  {
   "cell_type": "code",
   "execution_count": null,
   "metadata": {
    "pycharm": {
     "name": "#%%\n"
    }
   },
   "outputs": [],
   "source": [
    "# Print the result of the future when it is ready\n",
    "y.result()"
   ]
  }
 ],
 "metadata": {
  "kernelspec": {
   "display_name": "Python 3",
   "language": "python",
   "name": "python3"
  },
  "language_info": {
   "codemirror_mode": {
    "name": "ipython",
    "version": 2
   },
   "file_extension": ".py",
   "mimetype": "text/x-python",
   "name": "python",
   "nbconvert_exporter": "python",
   "pygments_lexer": "ipython2",
   "version": "2.7.6"
  }
 },
 "nbformat": 4,
 "nbformat_minor": 0
}
